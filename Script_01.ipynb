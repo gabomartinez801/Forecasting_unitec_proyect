{
 "cells": [
  {
   "cell_type": "code",
   "execution_count": 7,
   "metadata": {},
   "outputs": [
    {
     "name": "stdout",
     "output_type": "stream",
     "text": [
      "\u001b[1m\u001b[38;5;208mVersión skforecast: 0.12.1\n",
      "\u001b[1m\u001b[38;5;208mVersión scikit-learn: 1.4.2\n",
      "\u001b[1m\u001b[38;5;208mVersión pandas: 2.2.2\n",
      "\u001b[1m\u001b[38;5;208mVersión numpy: 1.26.4\n"
     ]
    }
   ],
   "source": [
    "# Tratamiento de datos\n",
    "# ==============================================================================\n",
    "import numpy as np\n",
    "import pandas as pd\n",
    "from skforecast.datasets import fetch_dataset\n",
    "\n",
    "# Gráficos\n",
    "# ==============================================================================\n",
    "import matplotlib.pyplot as plt\n",
    "plt.style.use('fivethirtyeight')\n",
    "plt.rcParams['lines.linewidth'] = 1.5\n",
    "plt.rcParams['font.size'] = 10\n",
    "\n",
    "# Modelado y Forecasting\n",
    "# ==============================================================================\n",
    "import sklearn\n",
    "from sklearn.linear_model import Ridge\n",
    "from sklearn.ensemble import RandomForestRegressor\n",
    "from sklearn.metrics import mean_squared_error\n",
    "from sklearn.metrics import mean_absolute_error\n",
    "from sklearn.preprocessing import StandardScaler\n",
    "import skforecast\n",
    "from skforecast.ForecasterAutoreg import ForecasterAutoreg\n",
    "from skforecast.ForecasterAutoregCustom import ForecasterAutoregCustom\n",
    "from skforecast.ForecasterAutoregDirect import ForecasterAutoregDirect\n",
    "from skforecast.model_selection import grid_search_forecaster\n",
    "from skforecast.model_selection import backtesting_forecaster\n",
    "from skforecast.utils import save_forecaster\n",
    "from skforecast.utils import load_forecaster\n",
    "import shap\n",
    "\n",
    "\n",
    "# Configuración warnings\n",
    "# ==============================================================================\n",
    "import warnings\n",
    "warnings.filterwarnings('once')\n",
    "\n",
    "color = '\\033[1m\\033[38;5;208m' \n",
    "print(f\"{color}Versión skforecast: {skforecast.__version__}\")\n",
    "print(f\"{color}Versión scikit-learn: {sklearn.__version__}\")\n",
    "print(f\"{color}Versión pandas: {pd.__version__}\")\n",
    "print(f\"{color}Versión numpy: {np.__version__}\")"
   ]
  },
  {
   "cell_type": "code",
   "execution_count": 19,
   "metadata": {},
   "outputs": [
    {
     "name": "stderr",
     "output_type": "stream",
     "text": [
      "c:\\Users\\gabriel.castro\\AppData\\Local\\Programs\\Python\\Python312\\Lib\\site-packages\\openpyxl\\packaging\\core.py:99: DeprecationWarning: datetime.datetime.utcnow() is deprecated and scheduled for removal in a future version. Use timezone-aware objects to represent datetimes in UTC: datetime.datetime.now(datetime.UTC).\n",
      "  now = datetime.datetime.utcnow()\n"
     ]
    },
    {
     "name": "stdout",
     "output_type": "stream",
     "text": [
      "restaurantes unicos \n",
      "      Year_month DEPTO_ACTUAL  Recuento_de_salida\n",
      "0    2019-01-31         BK01                   1\n",
      "1    2019-01-31         BK04                   1\n",
      "2    2019-01-31         BK08                   3\n",
      "3    2019-01-31         BK10                   4\n",
      "4    2019-01-31         BK11                   1\n",
      "...         ...          ...                 ...\n",
      "3940 2024-06-30         PP24                   5\n",
      "3941 2024-06-30         PP25                   3\n",
      "3942 2024-06-30         PP27                   3\n",
      "3943 2024-06-30         PP31                   2\n",
      "3944 2024-06-30         PP32                   2\n",
      "\n",
      "[3945 rows x 3 columns]\n"
     ]
    }
   ],
   "source": [
    "Df_O_salidas = pd.read_excel('./Data resumida.xlsx')\n",
    "Df_O_salidas['FECHA_RIGE']= pd.to_datetime(Df_O_salidas['FECHA_RIGE'],format='%d-%m-%Y')\n",
    "fecha_limite = pd.to_datetime('30-06-2024', format='%d-%m-%Y')\n",
    "Df_O_salidas = Df_O_salidas[Df_O_salidas['FECHA_RIGE']<=fecha_limite]\n",
    "Df_O_salidas['Year_month'] = Df_O_salidas['FECHA_RIGE']+ pd.offsets.MonthEnd(0)\n",
    "Df_O_salidas = Df_O_salidas.sort_values('Year_month')\n",
    "Df_agrupado = Df_O_salidas.groupby(by=['Year_month', 'DEPTO_ACTUAL'])['Recuento_de_salida'].sum().reset_index()\n",
    "valores_unicos = pd.unique(Df_O_salidas['DEPTO_ACTUAL'])\n",
    "decer = Df_agrupado\n",
    "print(f'restaurantes unicos \\n {Df_agrupado}')\n",
    "\n",
    "df_unificado = []\n",
    "\n",
    "for rest in valores_unicos :\n",
    "    dfderecurrencia = Df_agrupado[Df_agrupado['DEPTO_ACTUAL'] == rest].copy()\n",
    "    dfderecurrencia.set_index('Year_month', inplace=True)\n",
    "    dfderecurrencia = dfderecurrencia.asfreq('MS')\n",
    "    dfderecurrencia.sort_index()\n",
    "    # Añadir el departamento al DataFrame resultante\n",
    "    dfderecurrencia['DEPTO_ACTUAL'] = rest\n",
    "\n",
    "    # Hacer un 'push' (append) de dfderecurrencia a df_unificado\n",
    "    df_unificado.append(dfderecurrencia)\n",
    "# Resetear el índice de df_unificado si es necesario\n",
    "df_unificadopd = pd.concat(df_unificado, ignore_index=False)\n",
    "\n",
    "df_unificadopd.to_excel('./resultado.xlsx')\n",
    "#Restaurante_unicos = pd.unique(Df_agrupado['DEPTO_ACTUAL'])\n",
    "\n",
    "#Df_agrupado['Year_month'] = pd.to_datetime(Df_agrupado['Year_month'])\n",
    "#Df_agrupado = Df_agrupado.set_index(['Year_month','DEPTO_ACTUAL'])\n",
    "\n",
    "\n",
    "# Mostrar los primeros resultados\n",
    "#Df_agrupado.head()"
   ]
  }
 ],
 "metadata": {
  "kernelspec": {
   "display_name": "Python 3",
   "language": "python",
   "name": "python3"
  },
  "language_info": {
   "codemirror_mode": {
    "name": "ipython",
    "version": 3
   },
   "file_extension": ".py",
   "mimetype": "text/x-python",
   "name": "python",
   "nbconvert_exporter": "python",
   "pygments_lexer": "ipython3",
   "version": "3.12.3"
  }
 },
 "nbformat": 4,
 "nbformat_minor": 2
}
