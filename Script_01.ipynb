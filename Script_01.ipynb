{
 "cells": [
  {
   "cell_type": "code",
   "execution_count": null,
   "metadata": {},
   "outputs": [],
   "source": [
    "# Tratamiento de datos\n",
    "# ==============================================================================\n",
    "import numpy as np\n",
    "import pandas as pd\n",
    "from skforecast.datasets import fetch_dataset\n",
    "\n",
    "# Gráficos\n",
    "# ==============================================================================\n",
    "import matplotlib.pyplot as plt\n",
    "import matplotlib.dates as mdates\n",
    "plt.style.use('fivethirtyeight')\n",
    "plt.rcParams['lines.linewidth'] = 1.5\n",
    "plt.rcParams['font.size'] = 10\n",
    "\n",
    "# Modelado y Forecasting\n",
    "# ==============================================================================\n",
    "import sklearn\n",
    "from sklearn.linear_model import Ridge\n",
    "from sklearn.ensemble import RandomForestRegressor\n",
    "from sklearn.metrics import mean_squared_error\n",
    "from sklearn.metrics import mean_absolute_error\n",
    "from sklearn.preprocessing import StandardScaler\n",
    "import skforecast\n",
    "from skforecast.ForecasterAutoreg import ForecasterAutoreg\n",
    "from skforecast.ForecasterAutoregCustom import ForecasterAutoregCustom\n",
    "from skforecast.ForecasterAutoregDirect import ForecasterAutoregDirect\n",
    "from skforecast.model_selection import grid_search_forecaster\n",
    "from skforecast.model_selection import backtesting_forecaster\n",
    "from skforecast.utils import save_forecaster\n",
    "from skforecast.utils import load_forecaster\n",
    "import shap\n",
    "\n",
    "\n",
    "# Configuración warnings\n",
    "# ==============================================================================\n",
    "import warnings\n",
    "warnings.filterwarnings('once')\n",
    "\n",
    "color = '\\033[1m\\033[38;5;208m' \n",
    "print(f\"{color}Versión skforecast: {skforecast.__version__}\")\n",
    "print(f\"{color}Versión scikit-learn: {sklearn.__version__}\")\n",
    "print(f\"{color}Versión pandas: {pd.__version__}\")\n",
    "print(f\"{color}Versión numpy: {np.__version__}\")"
   ]
  },
  {
   "cell_type": "code",
   "execution_count": null,
   "metadata": {},
   "outputs": [],
   "source": [
    "Df_O_salidas = pd.read_excel('./Data resumida.xlsx')\n",
    "Df_O_salidas['FECHA_RIGE']= pd.to_datetime(Df_O_salidas['FECHA_RIGE'],format='%d-%m-%Y')\n",
    "fecha_limite = pd.to_datetime('30-06-2024', format='%d-%m-%Y')\n",
    "Df_O_salidas = Df_O_salidas[Df_O_salidas['FECHA_RIGE']<=fecha_limite]\n",
    "Df_O_salidas['Year_month'] = Df_O_salidas['FECHA_RIGE']+ pd.offsets.MonthEnd(0)\n",
    "Df_O_salidas = Df_O_salidas.sort_values('Year_month')\n",
    "Df_agrupado = Df_O_salidas.groupby(by=['Year_month', 'DEPTO_ACTUAL'])['Recuento_de_salida'].sum().reset_index()\n",
    "valores_unicos = pd.unique(Df_O_salidas['DEPTO_ACTUAL'])\n",
    "decer = Df_agrupado\n",
    "  \n",
    "df_unificado = []\n",
    "\n",
    "for rest in valores_unicos :\n",
    "    dfderecurrencia = Df_agrupado[Df_agrupado['DEPTO_ACTUAL'] == rest].copy()\n",
    "    dfderecurrencia.set_index('Year_month', inplace=True)\n",
    "    dfderecurrencia = dfderecurrencia.asfreq('M')\n",
    "    dfderecurrencia.sort_index()\n",
    "    # Añadir el departamento al DataFrame resultante\n",
    "    dfderecurrencia['DEPTO_ACTUAL'] = rest\n",
    "    dfderecurrencia['Recuento_de_salida'] = dfderecurrencia['Recuento_de_salida'].fillna(0)\n",
    "    # Hacer un 'push' (append) de dfderecurrencia a df_unificado\n",
    "    df_unificado.append(dfderecurrencia)\n",
    "# Resetear el índice de df_unificado si es necesario\n",
    "\n",
    "df_unificadopd = pd.concat(df_unificado, ignore_index=False)\n",
    "#df_unificadopd.to_excel('./resultado.xlsx')\n",
    "#Restaurante_unicos = pd.unique(Df_agrupado['DEPTO_ACTUAL'])\n",
    "\n",
    "#Df_agrupado['Year_month'] = pd.to_datetime(Df_agrupado['Year_month'])\n",
    "#Df_agrupado = Df_agrupado.set_index(['Year_month','DEPTO_ACTUAL'])\n",
    "\n",
    "\n",
    "# Mostrar los primeros resultados\n",
    "#Df_agrupado.head()"
   ]
  },
  {
   "cell_type": "code",
   "execution_count": null,
   "metadata": {},
   "outputs": [],
   "source": [
    "df_unificadopd2 = df_unificadopd.groupby(by=df_unificadopd.index)['Recuento_de_salida'].sum().reset_index()\n",
    "df_unificadopd2.set_index('Year_month', inplace=True)\n",
    "print(df_unificadopd2)\n",
    "\n",
    "plt.figure(figsize=(10,10))\n",
    "plt.plot(df_unificadopd2.index,df_unificadopd2['Recuento_de_salida'],scalex='M',marker='o')\n",
    "# Formato del eje X\n",
    "plt.xlabel('Fecha')  # Etiqueta del eje X\n",
    "plt.ylabel('Valores')  # Etiqueta del eje Y\n",
    "plt.title('Gráfico de Líneas')\n",
    "plt.xticks(rotation=45) \n",
    "plt.show()"
   ]
  },
  {
   "cell_type": "markdown",
   "metadata": {},
   "source": [
    "La Gafica linea muestra que hay una tendencia a la alza con una etacionalidad aditiva sin contar el periodo 2020 que esa anormalidad se abduce que es por la pandemia"
   ]
  },
  {
   "cell_type": "code",
   "execution_count": null,
   "metadata": {},
   "outputs": [],
   "source": [
    "steps = 18\n",
    "data_train = df_unificadopd2[:-steps]\n",
    "data_test  = df_unificadopd2[-steps:]\n",
    "\n",
    "print(\n",
    "    f\"Train dates : {data_train.index.min()} --- \"\n",
    "    f\"{data_train.index.max()}  (n={len(data_train)})\"\n",
    ")\n",
    "print(\n",
    "    f\"Test dates  : {data_test.index.min()} --- \"\n",
    "    f\"{data_test.index.max()}  (n={len(data_test)})\"\n",
    ")\n",
    "fig, ax = plt.subplots(figsize=(8, 6))\n",
    "data_train['Recuento_de_salida'].plot(ax=ax, label='train')\n",
    "data_test['Recuento_de_salida'].plot(ax=ax, label='test')\n",
    "ax.legend()"
   ]
  },
  {
   "cell_type": "code",
   "execution_count": null,
   "metadata": {},
   "outputs": [],
   "source": [
    "# Create and train forecaster\n",
    "# ==============================================================================\n",
    "forecaster = ForecasterAutoreg(\n",
    "                 regressor = RandomForestRegressor(random_state=123),\n",
    "                 lags      = 6\n",
    "             )\n",
    "forecaster.fit(y=data_train['Recuento_de_salida'])\n",
    "forecaster"
   ]
  },
  {
   "cell_type": "code",
   "execution_count": null,
   "metadata": {},
   "outputs": [],
   "source": [
    "steps = 18\n",
    "predictions = forecaster.predict(steps=steps)\n",
    "predictions.head(5)"
   ]
  },
  {
   "cell_type": "code",
   "execution_count": null,
   "metadata": {},
   "outputs": [],
   "source": [
    "fig, ax = plt.subplots(figsize=(6, 2.5))\n",
    "data_train['Recuento_de_salida'].plot(ax=ax, label='train')\n",
    "data_test['Recuento_de_salida'].plot(ax=ax, label='test')\n",
    "predictions.plot(ax=ax, label='predictions')\n",
    "ax.legend();"
   ]
  }
 ],
 "metadata": {
  "kernelspec": {
   "display_name": "Python 3",
   "language": "python",
   "name": "python3"
  },
  "language_info": {
   "codemirror_mode": {
    "name": "ipython",
    "version": 3
   },
   "file_extension": ".py",
   "mimetype": "text/x-python",
   "name": "python",
   "nbconvert_exporter": "python",
   "pygments_lexer": "ipython3",
   "version": "3.12.3"
  }
 },
 "nbformat": 4,
 "nbformat_minor": 2
}
